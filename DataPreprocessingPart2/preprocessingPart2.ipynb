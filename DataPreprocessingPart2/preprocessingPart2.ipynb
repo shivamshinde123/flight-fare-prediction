{
 "cells": [
  {
   "cell_type": "code",
   "execution_count": 1,
   "id": "beb6ec78",
   "metadata": {},
   "outputs": [],
   "source": [
    "import pandas as pd \n",
    "import numpy as np\n",
    "import matplotlib.pyplot as plt\n",
    "import seaborn as sns"
   ]
  },
  {
   "cell_type": "code",
   "execution_count": 2,
   "id": "d05579c1",
   "metadata": {},
   "outputs": [],
   "source": [
    "%matplotlib inline"
   ]
  },
  {
   "cell_type": "code",
   "execution_count": 3,
   "id": "18f7fe4b",
   "metadata": {},
   "outputs": [],
   "source": [
    "df = pd.read_csv('preprocess1.csv')"
   ]
  },
  {
   "cell_type": "code",
   "execution_count": 4,
   "id": "8bfd33f7",
   "metadata": {},
   "outputs": [
    {
     "data": {
      "text/html": [
       "<div>\n",
       "<style scoped>\n",
       "    .dataframe tbody tr th:only-of-type {\n",
       "        vertical-align: middle;\n",
       "    }\n",
       "\n",
       "    .dataframe tbody tr th {\n",
       "        vertical-align: top;\n",
       "    }\n",
       "\n",
       "    .dataframe thead th {\n",
       "        text-align: right;\n",
       "    }\n",
       "</style>\n",
       "<table border=\"1\" class=\"dataframe\">\n",
       "  <thead>\n",
       "    <tr style=\"text-align: right;\">\n",
       "      <th></th>\n",
       "      <th>Airline</th>\n",
       "      <th>Source</th>\n",
       "      <th>Destination</th>\n",
       "      <th>Flight_Duration</th>\n",
       "      <th>Total_Stops</th>\n",
       "      <th>Additional_Info</th>\n",
       "      <th>Day_of_Journey</th>\n",
       "      <th>Month_of_Journey</th>\n",
       "      <th>Year_of_Journey</th>\n",
       "      <th>Price</th>\n",
       "    </tr>\n",
       "  </thead>\n",
       "  <tbody>\n",
       "    <tr>\n",
       "      <th>0</th>\n",
       "      <td>IndiGo</td>\n",
       "      <td>Banglore</td>\n",
       "      <td>New Delhi</td>\n",
       "      <td>170</td>\n",
       "      <td>0</td>\n",
       "      <td>No info</td>\n",
       "      <td>24</td>\n",
       "      <td>3</td>\n",
       "      <td>2019</td>\n",
       "      <td>3897</td>\n",
       "    </tr>\n",
       "    <tr>\n",
       "      <th>1</th>\n",
       "      <td>Air India</td>\n",
       "      <td>Kolkata</td>\n",
       "      <td>Banglore</td>\n",
       "      <td>445</td>\n",
       "      <td>2</td>\n",
       "      <td>No info</td>\n",
       "      <td>1</td>\n",
       "      <td>5</td>\n",
       "      <td>2019</td>\n",
       "      <td>7662</td>\n",
       "    </tr>\n",
       "    <tr>\n",
       "      <th>2</th>\n",
       "      <td>Jet Airways</td>\n",
       "      <td>Delhi</td>\n",
       "      <td>Cochin</td>\n",
       "      <td>1140</td>\n",
       "      <td>2</td>\n",
       "      <td>No info</td>\n",
       "      <td>9</td>\n",
       "      <td>6</td>\n",
       "      <td>2019</td>\n",
       "      <td>13882</td>\n",
       "    </tr>\n",
       "    <tr>\n",
       "      <th>3</th>\n",
       "      <td>IndiGo</td>\n",
       "      <td>Kolkata</td>\n",
       "      <td>Banglore</td>\n",
       "      <td>325</td>\n",
       "      <td>1</td>\n",
       "      <td>No info</td>\n",
       "      <td>12</td>\n",
       "      <td>5</td>\n",
       "      <td>2019</td>\n",
       "      <td>6218</td>\n",
       "    </tr>\n",
       "    <tr>\n",
       "      <th>4</th>\n",
       "      <td>IndiGo</td>\n",
       "      <td>Banglore</td>\n",
       "      <td>New Delhi</td>\n",
       "      <td>285</td>\n",
       "      <td>1</td>\n",
       "      <td>No info</td>\n",
       "      <td>1</td>\n",
       "      <td>3</td>\n",
       "      <td>2019</td>\n",
       "      <td>13302</td>\n",
       "    </tr>\n",
       "  </tbody>\n",
       "</table>\n",
       "</div>"
      ],
      "text/plain": [
       "       Airline    Source Destination  Flight_Duration  Total_Stops  \\\n",
       "0       IndiGo  Banglore   New Delhi              170            0   \n",
       "1    Air India   Kolkata    Banglore              445            2   \n",
       "2  Jet Airways     Delhi      Cochin             1140            2   \n",
       "3       IndiGo   Kolkata    Banglore              325            1   \n",
       "4       IndiGo  Banglore   New Delhi              285            1   \n",
       "\n",
       "  Additional_Info  Day_of_Journey  Month_of_Journey  Year_of_Journey  Price  \n",
       "0         No info              24                 3             2019   3897  \n",
       "1         No info               1                 5             2019   7662  \n",
       "2         No info               9                 6             2019  13882  \n",
       "3         No info              12                 5             2019   6218  \n",
       "4         No info               1                 3             2019  13302  "
      ]
     },
     "execution_count": 4,
     "metadata": {},
     "output_type": "execute_result"
    }
   ],
   "source": [
    "df.head()"
   ]
  },
  {
   "cell_type": "code",
   "execution_count": 5,
   "id": "d862d6f7",
   "metadata": {},
   "outputs": [
    {
     "name": "stdout",
     "output_type": "stream",
     "text": [
      "Number of rows: 10681\n",
      "Number of columns: 10\n"
     ]
    }
   ],
   "source": [
    "print(f\"Number of rows: {df.shape[0]}\")\n",
    "print(f\"Number of columns: {df.shape[1]}\")"
   ]
  },
  {
   "cell_type": "code",
   "execution_count": 6,
   "id": "f6ab2d2d",
   "metadata": {},
   "outputs": [
    {
     "name": "stdout",
     "output_type": "stream",
     "text": [
      "<class 'pandas.core.frame.DataFrame'>\n",
      "RangeIndex: 10681 entries, 0 to 10680\n",
      "Data columns (total 10 columns):\n",
      " #   Column            Non-Null Count  Dtype \n",
      "---  ------            --------------  ----- \n",
      " 0   Airline           10681 non-null  object\n",
      " 1   Source            10681 non-null  object\n",
      " 2   Destination       10681 non-null  object\n",
      " 3   Flight_Duration   10681 non-null  int64 \n",
      " 4   Total_Stops       10681 non-null  int64 \n",
      " 5   Additional_Info   10681 non-null  object\n",
      " 6   Day_of_Journey    10681 non-null  int64 \n",
      " 7   Month_of_Journey  10681 non-null  int64 \n",
      " 8   Year_of_Journey   10681 non-null  int64 \n",
      " 9   Price             10681 non-null  int64 \n",
      "dtypes: int64(6), object(4)\n",
      "memory usage: 834.6+ KB\n"
     ]
    }
   ],
   "source": [
    "df.info()"
   ]
  },
  {
   "cell_type": "code",
   "execution_count": 7,
   "id": "76cce882",
   "metadata": {},
   "outputs": [
    {
     "data": {
      "text/html": [
       "<div>\n",
       "<style scoped>\n",
       "    .dataframe tbody tr th:only-of-type {\n",
       "        vertical-align: middle;\n",
       "    }\n",
       "\n",
       "    .dataframe tbody tr th {\n",
       "        vertical-align: top;\n",
       "    }\n",
       "\n",
       "    .dataframe thead th {\n",
       "        text-align: right;\n",
       "    }\n",
       "</style>\n",
       "<table border=\"1\" class=\"dataframe\">\n",
       "  <thead>\n",
       "    <tr style=\"text-align: right;\">\n",
       "      <th></th>\n",
       "      <th>Flight_Duration</th>\n",
       "      <th>Total_Stops</th>\n",
       "      <th>Day_of_Journey</th>\n",
       "      <th>Month_of_Journey</th>\n",
       "      <th>Year_of_Journey</th>\n",
       "      <th>Price</th>\n",
       "    </tr>\n",
       "  </thead>\n",
       "  <tbody>\n",
       "    <tr>\n",
       "      <th>count</th>\n",
       "      <td>10681.000000</td>\n",
       "      <td>10681.000000</td>\n",
       "      <td>10681.000000</td>\n",
       "      <td>10681.000000</td>\n",
       "      <td>10681.0</td>\n",
       "      <td>10681.000000</td>\n",
       "    </tr>\n",
       "    <tr>\n",
       "      <th>mean</th>\n",
       "      <td>642.907031</td>\n",
       "      <td>0.824080</td>\n",
       "      <td>13.508379</td>\n",
       "      <td>4.708735</td>\n",
       "      <td>2019.0</td>\n",
       "      <td>9087.063290</td>\n",
       "    </tr>\n",
       "    <tr>\n",
       "      <th>std</th>\n",
       "      <td>507.718467</td>\n",
       "      <td>0.675164</td>\n",
       "      <td>8.479450</td>\n",
       "      <td>1.164345</td>\n",
       "      <td>0.0</td>\n",
       "      <td>4611.738196</td>\n",
       "    </tr>\n",
       "    <tr>\n",
       "      <th>min</th>\n",
       "      <td>5.000000</td>\n",
       "      <td>0.000000</td>\n",
       "      <td>1.000000</td>\n",
       "      <td>3.000000</td>\n",
       "      <td>2019.0</td>\n",
       "      <td>1759.000000</td>\n",
       "    </tr>\n",
       "    <tr>\n",
       "      <th>25%</th>\n",
       "      <td>170.000000</td>\n",
       "      <td>0.000000</td>\n",
       "      <td>6.000000</td>\n",
       "      <td>3.000000</td>\n",
       "      <td>2019.0</td>\n",
       "      <td>5277.000000</td>\n",
       "    </tr>\n",
       "    <tr>\n",
       "      <th>50%</th>\n",
       "      <td>520.000000</td>\n",
       "      <td>1.000000</td>\n",
       "      <td>12.000000</td>\n",
       "      <td>5.000000</td>\n",
       "      <td>2019.0</td>\n",
       "      <td>8372.000000</td>\n",
       "    </tr>\n",
       "    <tr>\n",
       "      <th>75%</th>\n",
       "      <td>930.000000</td>\n",
       "      <td>1.000000</td>\n",
       "      <td>21.000000</td>\n",
       "      <td>6.000000</td>\n",
       "      <td>2019.0</td>\n",
       "      <td>12373.000000</td>\n",
       "    </tr>\n",
       "    <tr>\n",
       "      <th>max</th>\n",
       "      <td>2860.000000</td>\n",
       "      <td>4.000000</td>\n",
       "      <td>27.000000</td>\n",
       "      <td>6.000000</td>\n",
       "      <td>2019.0</td>\n",
       "      <td>79512.000000</td>\n",
       "    </tr>\n",
       "  </tbody>\n",
       "</table>\n",
       "</div>"
      ],
      "text/plain": [
       "       Flight_Duration   Total_Stops  Day_of_Journey  Month_of_Journey  \\\n",
       "count     10681.000000  10681.000000    10681.000000      10681.000000   \n",
       "mean        642.907031      0.824080       13.508379          4.708735   \n",
       "std         507.718467      0.675164        8.479450          1.164345   \n",
       "min           5.000000      0.000000        1.000000          3.000000   \n",
       "25%         170.000000      0.000000        6.000000          3.000000   \n",
       "50%         520.000000      1.000000       12.000000          5.000000   \n",
       "75%         930.000000      1.000000       21.000000          6.000000   \n",
       "max        2860.000000      4.000000       27.000000          6.000000   \n",
       "\n",
       "       Year_of_Journey         Price  \n",
       "count          10681.0  10681.000000  \n",
       "mean            2019.0   9087.063290  \n",
       "std                0.0   4611.738196  \n",
       "min             2019.0   1759.000000  \n",
       "25%             2019.0   5277.000000  \n",
       "50%             2019.0   8372.000000  \n",
       "75%             2019.0  12373.000000  \n",
       "max             2019.0  79512.000000  "
      ]
     },
     "execution_count": 7,
     "metadata": {},
     "output_type": "execute_result"
    }
   ],
   "source": [
    "df.describe()"
   ]
  },
  {
   "cell_type": "code",
   "execution_count": 8,
   "id": "6e10b97c",
   "metadata": {},
   "outputs": [],
   "source": [
    "## dependent and independent data\n",
    "X = df.iloc[:,:-1]\n",
    "y = df.iloc[:,-1]"
   ]
  },
  {
   "cell_type": "code",
   "execution_count": 9,
   "id": "eaa54376",
   "metadata": {},
   "outputs": [
    {
     "data": {
      "text/plain": [
       "['Airline', 'Source', 'Destination', 'Additional_Info']"
      ]
     },
     "execution_count": 9,
     "metadata": {},
     "output_type": "execute_result"
    }
   ],
   "source": [
    "## identifying the categorical and numerical columns \n",
    "cat_feat = [feature for feature in X.columns if X[feature].dtypes == 'O' ]\n",
    "cat_feat"
   ]
  },
  {
   "cell_type": "code",
   "execution_count": 10,
   "id": "7c174d1d",
   "metadata": {},
   "outputs": [
    {
     "data": {
      "text/plain": [
       "['Flight_Duration',\n",
       " 'Total_Stops',\n",
       " 'Day_of_Journey',\n",
       " 'Month_of_Journey',\n",
       " 'Year_of_Journey']"
      ]
     },
     "execution_count": 10,
     "metadata": {},
     "output_type": "execute_result"
    }
   ],
   "source": [
    "## identifying the numerical columns\n",
    "num_feat = [feature for feature in X.columns if feature not in cat_feat]\n",
    "num_feat"
   ]
  },
  {
   "cell_type": "code",
   "execution_count": 11,
   "id": "b4f9f125",
   "metadata": {},
   "outputs": [],
   "source": [
    "## dropping the duplicate rows\n",
    "X.drop_duplicates(inplace=True)"
   ]
  },
  {
   "cell_type": "code",
   "execution_count": 12,
   "id": "27318b7d",
   "metadata": {
    "scrolled": false
   },
   "outputs": [
    {
     "name": "stdout",
     "output_type": "stream",
     "text": [
      "Airline:\n",
      "Jet Airways                          3221\n",
      "Air India                            1541\n",
      "IndiGo                               1183\n",
      "Multiple carriers                     922\n",
      "SpiceJet                              693\n",
      "Vistara                               412\n",
      "Air Asia                              269\n",
      "GoAir                                 178\n",
      "Multiple carriers Premium economy      11\n",
      "Jet Airways Business                    6\n",
      "Vistara Premium economy                 3\n",
      "Trujet                                  1\n",
      "Name: Airline, dtype: int64\n",
      "\n",
      "\n",
      "Source:\n",
      "Delhi       3881\n",
      "Kolkata     2494\n",
      "Banglore    1429\n",
      "Mumbai       393\n",
      "Chennai      243\n",
      "Name: Source, dtype: int64\n",
      "\n",
      "\n",
      "Destination:\n",
      "Cochin       3881\n",
      "Banglore     2494\n",
      "Delhi         747\n",
      "New Delhi     682\n",
      "Hyderabad     393\n",
      "Kolkata       243\n",
      "Name: Destination, dtype: int64\n",
      "\n",
      "\n",
      "Additional_Info:\n",
      "No info                         6433\n",
      "In-flight meal not included     1709\n",
      "No check-in baggage included     262\n",
      "1 Long layover                    19\n",
      "Change airports                    7\n",
      "Business class                     4\n",
      "No Info                            3\n",
      "1 Short layover                    1\n",
      "Red-eye flight                     1\n",
      "2 Long layover                     1\n",
      "Name: Additional_Info, dtype: int64\n",
      "\n",
      "\n"
     ]
    }
   ],
   "source": [
    "## finding the number of unique values in each of the categorical columns\n",
    "for feature in cat_feat:\n",
    "    print(f\"{feature}:\")\n",
    "    print(X[feature].value_counts())\n",
    "    print(\"\\n\")"
   ]
  },
  {
   "cell_type": "code",
   "execution_count": 13,
   "id": "bc94916b",
   "metadata": {},
   "outputs": [],
   "source": [
    "## In Additional_Info column, No info value is mispelled as No Info 3 times. We will need to correct it\n",
    "X['Additional_Info'] = np.where(X['Additional_Info'] == \"No Info\", \"No info\", X['Additional_Info'])"
   ]
  },
  {
   "cell_type": "code",
   "execution_count": 14,
   "id": "c2831b8b",
   "metadata": {},
   "outputs": [
    {
     "data": {
      "text/plain": [
       "No info                         6436\n",
       "In-flight meal not included     1709\n",
       "No check-in baggage included     262\n",
       "1 Long layover                    19\n",
       "Change airports                    7\n",
       "Business class                     4\n",
       "1 Short layover                    1\n",
       "Red-eye flight                     1\n",
       "2 Long layover                     1\n",
       "Name: Additional_Info, dtype: int64"
      ]
     },
     "execution_count": 14,
     "metadata": {},
     "output_type": "execute_result"
    }
   ],
   "source": [
    "X['Additional_Info'].value_counts()"
   ]
  },
  {
   "cell_type": "code",
   "execution_count": 15,
   "id": "c23d97a2",
   "metadata": {},
   "outputs": [
    {
     "data": {
      "text/plain": [
       "Index(['Airline', 'Source', 'Destination', 'Flight_Duration', 'Total_Stops',\n",
       "       'Additional_Info', 'Day_of_Journey', 'Month_of_Journey',\n",
       "       'Year_of_Journey'],\n",
       "      dtype='object')"
      ]
     },
     "execution_count": 15,
     "metadata": {},
     "output_type": "execute_result"
    }
   ],
   "source": [
    "X.columns"
   ]
  },
  {
   "cell_type": "code",
   "execution_count": 16,
   "id": "7360dec7",
   "metadata": {},
   "outputs": [],
   "source": [
    "df_copy = df.copy()\n",
    "for feature in cat_feat:\n",
    "    lst = df_copy[feature].unique()\n",
    "    d = dict()\n",
    "    for key, value in enumerate(lst):\n",
    "        d[value] = key + 1\n",
    "    df_copy[feature] = df_copy[feature].map(d)"
   ]
  },
  {
   "cell_type": "code",
   "execution_count": 17,
   "id": "1da2a3ea",
   "metadata": {},
   "outputs": [
    {
     "data": {
      "text/html": [
       "<div>\n",
       "<style scoped>\n",
       "    .dataframe tbody tr th:only-of-type {\n",
       "        vertical-align: middle;\n",
       "    }\n",
       "\n",
       "    .dataframe tbody tr th {\n",
       "        vertical-align: top;\n",
       "    }\n",
       "\n",
       "    .dataframe thead th {\n",
       "        text-align: right;\n",
       "    }\n",
       "</style>\n",
       "<table border=\"1\" class=\"dataframe\">\n",
       "  <thead>\n",
       "    <tr style=\"text-align: right;\">\n",
       "      <th></th>\n",
       "      <th>Airline</th>\n",
       "      <th>Source</th>\n",
       "      <th>Destination</th>\n",
       "      <th>Flight_Duration</th>\n",
       "      <th>Total_Stops</th>\n",
       "      <th>Additional_Info</th>\n",
       "      <th>Day_of_Journey</th>\n",
       "      <th>Month_of_Journey</th>\n",
       "      <th>Year_of_Journey</th>\n",
       "      <th>Price</th>\n",
       "    </tr>\n",
       "  </thead>\n",
       "  <tbody>\n",
       "    <tr>\n",
       "      <th>0</th>\n",
       "      <td>1</td>\n",
       "      <td>1</td>\n",
       "      <td>1</td>\n",
       "      <td>170</td>\n",
       "      <td>0</td>\n",
       "      <td>1</td>\n",
       "      <td>24</td>\n",
       "      <td>3</td>\n",
       "      <td>2019</td>\n",
       "      <td>3897</td>\n",
       "    </tr>\n",
       "    <tr>\n",
       "      <th>1</th>\n",
       "      <td>2</td>\n",
       "      <td>2</td>\n",
       "      <td>2</td>\n",
       "      <td>445</td>\n",
       "      <td>2</td>\n",
       "      <td>1</td>\n",
       "      <td>1</td>\n",
       "      <td>5</td>\n",
       "      <td>2019</td>\n",
       "      <td>7662</td>\n",
       "    </tr>\n",
       "    <tr>\n",
       "      <th>2</th>\n",
       "      <td>3</td>\n",
       "      <td>3</td>\n",
       "      <td>3</td>\n",
       "      <td>1140</td>\n",
       "      <td>2</td>\n",
       "      <td>1</td>\n",
       "      <td>9</td>\n",
       "      <td>6</td>\n",
       "      <td>2019</td>\n",
       "      <td>13882</td>\n",
       "    </tr>\n",
       "    <tr>\n",
       "      <th>3</th>\n",
       "      <td>1</td>\n",
       "      <td>2</td>\n",
       "      <td>2</td>\n",
       "      <td>325</td>\n",
       "      <td>1</td>\n",
       "      <td>1</td>\n",
       "      <td>12</td>\n",
       "      <td>5</td>\n",
       "      <td>2019</td>\n",
       "      <td>6218</td>\n",
       "    </tr>\n",
       "    <tr>\n",
       "      <th>4</th>\n",
       "      <td>1</td>\n",
       "      <td>1</td>\n",
       "      <td>1</td>\n",
       "      <td>285</td>\n",
       "      <td>1</td>\n",
       "      <td>1</td>\n",
       "      <td>1</td>\n",
       "      <td>3</td>\n",
       "      <td>2019</td>\n",
       "      <td>13302</td>\n",
       "    </tr>\n",
       "  </tbody>\n",
       "</table>\n",
       "</div>"
      ],
      "text/plain": [
       "   Airline  Source  Destination  Flight_Duration  Total_Stops  \\\n",
       "0        1       1            1              170            0   \n",
       "1        2       2            2              445            2   \n",
       "2        3       3            3             1140            2   \n",
       "3        1       2            2              325            1   \n",
       "4        1       1            1              285            1   \n",
       "\n",
       "   Additional_Info  Day_of_Journey  Month_of_Journey  Year_of_Journey  Price  \n",
       "0                1              24                 3             2019   3897  \n",
       "1                1               1                 5             2019   7662  \n",
       "2                1               9                 6             2019  13882  \n",
       "3                1              12                 5             2019   6218  \n",
       "4                1               1                 3             2019  13302  "
      ]
     },
     "execution_count": 17,
     "metadata": {},
     "output_type": "execute_result"
    }
   ],
   "source": [
    "df_copy.head()"
   ]
  },
  {
   "cell_type": "code",
   "execution_count": 18,
   "id": "1e4992b3",
   "metadata": {},
   "outputs": [
    {
     "data": {
      "text/plain": [
       "<AxesSubplot:>"
      ]
     },
     "execution_count": 18,
     "metadata": {},
     "output_type": "execute_result"
    },
    {
     "data": {
      "image/png": "[encoded data removed]",
      "text/plain": [
       "<Figure size 720x504 with 2 Axes>"
      ]
     },
     "metadata": {
      "needs_background": "light"
     },
     "output_type": "display_data"
    }
   ],
   "source": [
    "## checking the multi-collinerity of the features\n",
    "plt.figure(figsize = (10,7))\n",
    "sns.heatmap(df_copy.corr(),cmap=\"coolwarm\",annot=True)"
   ]
  },
  {
   "cell_type": "markdown",
   "id": "a38f812b",
   "metadata": {},
   "source": [
    "**Here no two independent features have a correlation greater than 0.8 and lower than -0.8. So there is very little chance of multicollinearity**"
   ]
  },
  {
   "cell_type": "markdown",
   "id": "d1903ef7",
   "metadata": {},
   "source": [
    "**Also the feature Year_of_Journey doesn't contribute even a percent to the price prediction. Most probably this column have zero variance. Let's check**"
   ]
  },
  {
   "cell_type": "code",
   "execution_count": 19,
   "id": "c28c55ed",
   "metadata": {},
   "outputs": [
    {
     "name": "stdout",
     "output_type": "stream",
     "text": [
      "Variance of the numerical feature Flight_Duration: 257778.042\n",
      "Variance of the numerical feature Total_Stops: 0.456\n",
      "Variance of the numerical feature Day_of_Journey: 71.901\n",
      "Variance of the numerical feature Month_of_Journey: 1.356\n",
      "Variance of the numerical feature Year_of_Journey: 0.0\n"
     ]
    }
   ],
   "source": [
    "## checking the variance of numerical columns\n",
    "for feature in num_feat:\n",
    "    print(f\"Variance of the numerical feature {feature}: {np.round((df[feature].std())**2,3)}\")"
   ]
  },
  {
   "cell_type": "code",
   "execution_count": 20,
   "id": "2dd487c3",
   "metadata": {},
   "outputs": [],
   "source": [
    "## Since the feature Year_of_Journey have zero variance, we will have to remove it\n",
    "X.drop(columns = ['Year_of_Journey'],inplace=True)"
   ]
  },
  {
   "cell_type": "code",
   "execution_count": 21,
   "id": "33becbdb",
   "metadata": {},
   "outputs": [
    {
     "data": {
      "text/html": [
       "<div>\n",
       "<style scoped>\n",
       "    .dataframe tbody tr th:only-of-type {\n",
       "        vertical-align: middle;\n",
       "    }\n",
       "\n",
       "    .dataframe tbody tr th {\n",
       "        vertical-align: top;\n",
       "    }\n",
       "\n",
       "    .dataframe thead th {\n",
       "        text-align: right;\n",
       "    }\n",
       "</style>\n",
       "<table border=\"1\" class=\"dataframe\">\n",
       "  <thead>\n",
       "    <tr style=\"text-align: right;\">\n",
       "      <th></th>\n",
       "      <th>Airline</th>\n",
       "      <th>Source</th>\n",
       "      <th>Destination</th>\n",
       "      <th>Flight_Duration</th>\n",
       "      <th>Total_Stops</th>\n",
       "      <th>Additional_Info</th>\n",
       "      <th>Day_of_Journey</th>\n",
       "      <th>Month_of_Journey</th>\n",
       "    </tr>\n",
       "  </thead>\n",
       "  <tbody>\n",
       "    <tr>\n",
       "      <th>0</th>\n",
       "      <td>IndiGo</td>\n",
       "      <td>Banglore</td>\n",
       "      <td>New Delhi</td>\n",
       "      <td>170</td>\n",
       "      <td>0</td>\n",
       "      <td>No info</td>\n",
       "      <td>24</td>\n",
       "      <td>3</td>\n",
       "    </tr>\n",
       "    <tr>\n",
       "      <th>1</th>\n",
       "      <td>Air India</td>\n",
       "      <td>Kolkata</td>\n",
       "      <td>Banglore</td>\n",
       "      <td>445</td>\n",
       "      <td>2</td>\n",
       "      <td>No info</td>\n",
       "      <td>1</td>\n",
       "      <td>5</td>\n",
       "    </tr>\n",
       "    <tr>\n",
       "      <th>2</th>\n",
       "      <td>Jet Airways</td>\n",
       "      <td>Delhi</td>\n",
       "      <td>Cochin</td>\n",
       "      <td>1140</td>\n",
       "      <td>2</td>\n",
       "      <td>No info</td>\n",
       "      <td>9</td>\n",
       "      <td>6</td>\n",
       "    </tr>\n",
       "    <tr>\n",
       "      <th>3</th>\n",
       "      <td>IndiGo</td>\n",
       "      <td>Kolkata</td>\n",
       "      <td>Banglore</td>\n",
       "      <td>325</td>\n",
       "      <td>1</td>\n",
       "      <td>No info</td>\n",
       "      <td>12</td>\n",
       "      <td>5</td>\n",
       "    </tr>\n",
       "    <tr>\n",
       "      <th>4</th>\n",
       "      <td>IndiGo</td>\n",
       "      <td>Banglore</td>\n",
       "      <td>New Delhi</td>\n",
       "      <td>285</td>\n",
       "      <td>1</td>\n",
       "      <td>No info</td>\n",
       "      <td>1</td>\n",
       "      <td>3</td>\n",
       "    </tr>\n",
       "  </tbody>\n",
       "</table>\n",
       "</div>"
      ],
      "text/plain": [
       "       Airline    Source Destination  Flight_Duration  Total_Stops  \\\n",
       "0       IndiGo  Banglore   New Delhi              170            0   \n",
       "1    Air India   Kolkata    Banglore              445            2   \n",
       "2  Jet Airways     Delhi      Cochin             1140            2   \n",
       "3       IndiGo   Kolkata    Banglore              325            1   \n",
       "4       IndiGo  Banglore   New Delhi              285            1   \n",
       "\n",
       "  Additional_Info  Day_of_Journey  Month_of_Journey  \n",
       "0         No info              24                 3  \n",
       "1         No info               1                 5  \n",
       "2         No info               9                 6  \n",
       "3         No info              12                 5  \n",
       "4         No info               1                 3  "
      ]
     },
     "execution_count": 21,
     "metadata": {},
     "output_type": "execute_result"
    }
   ],
   "source": [
    "X.head()"
   ]
  },
  {
   "cell_type": "code",
   "execution_count": 22,
   "id": "da33ae31",
   "metadata": {},
   "outputs": [
    {
     "name": "stdout",
     "output_type": "stream",
     "text": [
      "The number of missing values in the feature column Airline: 0\n",
      "The number of missing values in the feature column Source: 0\n",
      "The number of missing values in the feature column Destination: 0\n",
      "The number of missing values in the feature column Flight_Duration: 0\n",
      "The number of missing values in the feature column Total_Stops: 0\n",
      "The number of missing values in the feature column Additional_Info: 0\n",
      "The number of missing values in the feature column Day_of_Journey: 0\n",
      "The number of missing values in the feature column Month_of_Journey: 0\n",
      "The number of missing values in the feature column Year_of_Journey: 0\n",
      "The number of missing values in the feature column Price: 0\n"
     ]
    }
   ],
   "source": [
    "## checking for the missing values in the columns of the data\n",
    "for feature in df.columns:\n",
    "    print(f\"The number of missing values in the feature column {feature}: {df[feature].isnull().sum()}\")"
   ]
  },
  {
   "cell_type": "code",
   "execution_count": 23,
   "id": "7a0f708b",
   "metadata": {},
   "outputs": [
    {
     "name": "stdout",
     "output_type": "stream",
     "text": [
      "The number of missing values in the Flight_Duration column: 0\n"
     ]
    },
    {
     "data": {
      "image/png": "[encoded data removed]",
      "text/plain": [
       "<Figure size 432x288 with 1 Axes>"
      ]
     },
     "metadata": {
      "needs_background": "light"
     },
     "output_type": "display_data"
    }
   ],
   "source": [
    "## checking if the feature columns have outliers or not\n",
    "df['Flight_Duration'].plot(kind=\"box\")\n",
    "print(f\"The number of missing values in the Flight_Duration column: {df['Flight_Duration'].isnull().sum()}\")"
   ]
  },
  {
   "cell_type": "markdown",
   "id": "ea60573f",
   "metadata": {},
   "source": [
    "**Data seems to have some outliers in the Flight_Duration feature column**"
   ]
  },
  {
   "cell_type": "code",
   "execution_count": 24,
   "id": "364aa400",
   "metadata": {},
   "outputs": [],
   "source": [
    "## converting the outliers in the Flight_Duration column into the null values \n",
    "## and then filling those values with the mean of non-null date\n",
    "\n",
    "Q1 = df['Flight_Duration'].quantile(0.25)\n",
    "Q3 = df['Flight_Duration'].quantile(0.75)\n",
    "IQR = Q3 - Q1\n",
    "\n",
    "df['Flight_Duration'] = np.where(df['Flight_Duration']> (Q3 + 1.45*IQR) , np.nan, df['Flight_Duration'])"
   ]
  },
  {
   "cell_type": "code",
   "execution_count": 25,
   "id": "749cb2bf",
   "metadata": {},
   "outputs": [
    {
     "data": {
      "text/plain": [
       "<AxesSubplot:>"
      ]
     },
     "execution_count": 25,
     "metadata": {},
     "output_type": "execute_result"
    },
    {
     "data": {
      "image/png": "[encoded data removed]",
      "text/plain": [
       "<Figure size 432x288 with 1 Axes>"
      ]
     },
     "metadata": {
      "needs_background": "light"
     },
     "output_type": "display_data"
    }
   ],
   "source": [
    "## now again checking for the outliers\n",
    "df['Flight_Duration'].plot(kind=\"box\")"
   ]
  },
  {
   "cell_type": "code",
   "execution_count": 26,
   "id": "90cf9b17",
   "metadata": {},
   "outputs": [
    {
     "data": {
      "text/plain": [
       "81"
      ]
     },
     "execution_count": 26,
     "metadata": {},
     "output_type": "execute_result"
    }
   ],
   "source": [
    "## checking for  the missing values in the Flight_Duration dataset\n",
    "df['Flight_Duration'].isnull().sum()"
   ]
  },
  {
   "cell_type": "code",
   "execution_count": 27,
   "id": "c0f928cc",
   "metadata": {},
   "outputs": [],
   "source": [
    "## replacing the missing values with the mean of the non-null values\n",
    "df['Flight_Duration'].fillna(df['Flight_Duration'].mean(),inplace=True)"
   ]
  },
  {
   "cell_type": "code",
   "execution_count": 28,
   "id": "0d1a8a4b",
   "metadata": {},
   "outputs": [
    {
     "data": {
      "text/plain": [
       "0"
      ]
     },
     "execution_count": 28,
     "metadata": {},
     "output_type": "execute_result"
    }
   ],
   "source": [
    "df['Flight_Duration'].isnull().sum()"
   ]
  },
  {
   "cell_type": "code",
   "execution_count": 29,
   "id": "7fd76282",
   "metadata": {},
   "outputs": [
    {
     "name": "stderr",
     "output_type": "stream",
     "text": [
      "C:\\Users\\shiva\\anaconda3\\lib\\site-packages\\seaborn\\distributions.py:2619: FutureWarning: `distplot` is a deprecated function and will be removed in a future version. Please adapt your code to use either `displot` (a figure-level function with similar flexibility) or `histplot` (an axes-level function for histograms).\n",
      "  warnings.warn(msg, FutureWarning)\n"
     ]
    },
    {
     "data": {
      "text/plain": [
       "<AxesSubplot:xlabel='Flight_Duration', ylabel='Density'>"
      ]
     },
     "execution_count": 29,
     "metadata": {},
     "output_type": "execute_result"
    },
    {
     "data": {
      "image/png": "[encoded data removed]",
      "text/plain": [
       "<Figure size 432x288 with 1 Axes>"
      ]
     },
     "metadata": {
      "needs_background": "light"
     },
     "output_type": "display_data"
    }
   ],
   "source": [
    "sns.distplot(df['Flight_Duration'])"
   ]
  },
  {
   "cell_type": "code",
   "execution_count": 30,
   "id": "0b662913",
   "metadata": {},
   "outputs": [
    {
     "name": "stderr",
     "output_type": "stream",
     "text": [
      "C:\\Users\\shiva\\anaconda3\\lib\\site-packages\\seaborn\\distributions.py:2619: FutureWarning: `distplot` is a deprecated function and will be removed in a future version. Please adapt your code to use either `displot` (a figure-level function with similar flexibility) or `histplot` (an axes-level function for histograms).\n",
      "  warnings.warn(msg, FutureWarning)\n"
     ]
    },
    {
     "data": {
      "text/plain": [
       "<AxesSubplot:xlabel='Flight_Duration', ylabel='Density'>"
      ]
     },
     "execution_count": 30,
     "metadata": {},
     "output_type": "execute_result"
    },
    {
     "data": {
      "image/png": "[encoded data removed]",
      "text/plain": [
       "<Figure size 432x288 with 1 Axes>"
      ]
     },
     "metadata": {
      "needs_background": "light"
     },
     "output_type": "display_data"
    }
   ],
   "source": [
    "sns.distplot(np.log(df['Flight_Duration']))"
   ]
  },
  {
   "cell_type": "code",
   "execution_count": 31,
   "id": "230b6622",
   "metadata": {},
   "outputs": [
    {
     "name": "stderr",
     "output_type": "stream",
     "text": [
      "C:\\Users\\shiva\\anaconda3\\lib\\site-packages\\seaborn\\distributions.py:2619: FutureWarning: `distplot` is a deprecated function and will be removed in a future version. Please adapt your code to use either `displot` (a figure-level function with similar flexibility) or `histplot` (an axes-level function for histograms).\n",
      "  warnings.warn(msg, FutureWarning)\n"
     ]
    },
    {
     "data": {
      "text/plain": [
       "<AxesSubplot:xlabel='Flight_Duration', ylabel='Density'>"
      ]
     },
     "execution_count": 31,
     "metadata": {},
     "output_type": "execute_result"
    },
    {
     "data": {
      "image/png": "[encoded data removed]",
      "text/plain": [
       "<Figure size 432x288 with 1 Axes>"
      ]
     },
     "metadata": {
      "needs_background": "light"
     },
     "output_type": "display_data"
    }
   ],
   "source": [
    "sns.distplot(np.sqrt(df['Flight_Duration']))"
   ]
  },
  {
   "cell_type": "code",
   "execution_count": null,
   "id": "7d76b2e8",
   "metadata": {},
   "outputs": [],
   "source": []
  }
 ],
 "metadata": {
  "kernelspec": {
   "display_name": "Python 3 (ipykernel)",
   "language": "python",
   "name": "python3"
  },
  "language_info": {
   "codemirror_mode": {
    "name": "ipython",
    "version": 3
   },
   "file_extension": ".py",
   "mimetype": "text/x-python",
   "name": "python",
   "nbconvert_exporter": "python",
   "pygments_lexer": "ipython3",
   "version": "3.9.7"
  }
 },
 "nbformat": 4,
 "nbformat_minor": 5
}
