{
 "cells": [
  {
   "cell_type": "code",
   "execution_count": 1,
   "id": "beb6ec78",
   "metadata": {},
   "outputs": [],
   "source": [
    "import pandas as pd \n",
    "import numpy as np\n",
    "import matplotlib.pyplot as plt\n",
    "import seaborn as sns"
   ]
  },
  {
   "cell_type": "code",
   "execution_count": 2,
   "id": "18f7fe4b",
   "metadata": {},
   "outputs": [],
   "source": [
    "df = pd.read_csv('inputFile.csv')"
   ]
  },
  {
   "cell_type": "code",
   "execution_count": 3,
   "id": "8bfd33f7",
   "metadata": {},
   "outputs": [
    {
     "data": {
      "text/html": [
       "<div>\n",
       "<style scoped>\n",
       "    .dataframe tbody tr th:only-of-type {\n",
       "        vertical-align: middle;\n",
       "    }\n",
       "\n",
       "    .dataframe tbody tr th {\n",
       "        vertical-align: top;\n",
       "    }\n",
       "\n",
       "    .dataframe thead th {\n",
       "        text-align: right;\n",
       "    }\n",
       "</style>\n",
       "<table border=\"1\" class=\"dataframe\">\n",
       "  <thead>\n",
       "    <tr style=\"text-align: right;\">\n",
       "      <th></th>\n",
       "      <th>Airline</th>\n",
       "      <th>Source</th>\n",
       "      <th>Destination</th>\n",
       "      <th>Flight_Duration</th>\n",
       "      <th>Total_Stops</th>\n",
       "      <th>Additional_Info</th>\n",
       "      <th>Day_of_Journey</th>\n",
       "      <th>Month_of_Journey</th>\n",
       "      <th>Year_of_Journey</th>\n",
       "      <th>Price</th>\n",
       "    </tr>\n",
       "  </thead>\n",
       "  <tbody>\n",
       "    <tr>\n",
       "      <th>0</th>\n",
       "      <td>IndiGo</td>\n",
       "      <td>Banglore</td>\n",
       "      <td>New Delhi</td>\n",
       "      <td>170.0</td>\n",
       "      <td>0.0</td>\n",
       "      <td>No info</td>\n",
       "      <td>24</td>\n",
       "      <td>3</td>\n",
       "      <td>2019</td>\n",
       "      <td>3897</td>\n",
       "    </tr>\n",
       "    <tr>\n",
       "      <th>1</th>\n",
       "      <td>Air India</td>\n",
       "      <td>Kolkata</td>\n",
       "      <td>Banglore</td>\n",
       "      <td>445.0</td>\n",
       "      <td>2.0</td>\n",
       "      <td>No info</td>\n",
       "      <td>5</td>\n",
       "      <td>1</td>\n",
       "      <td>2019</td>\n",
       "      <td>7662</td>\n",
       "    </tr>\n",
       "    <tr>\n",
       "      <th>2</th>\n",
       "      <td>Jet Airways</td>\n",
       "      <td>Delhi</td>\n",
       "      <td>Cochin</td>\n",
       "      <td>1140.0</td>\n",
       "      <td>2.0</td>\n",
       "      <td>No info</td>\n",
       "      <td>6</td>\n",
       "      <td>9</td>\n",
       "      <td>2019</td>\n",
       "      <td>13882</td>\n",
       "    </tr>\n",
       "    <tr>\n",
       "      <th>3</th>\n",
       "      <td>IndiGo</td>\n",
       "      <td>Kolkata</td>\n",
       "      <td>Banglore</td>\n",
       "      <td>325.0</td>\n",
       "      <td>1.0</td>\n",
       "      <td>No info</td>\n",
       "      <td>5</td>\n",
       "      <td>12</td>\n",
       "      <td>2019</td>\n",
       "      <td>6218</td>\n",
       "    </tr>\n",
       "    <tr>\n",
       "      <th>4</th>\n",
       "      <td>IndiGo</td>\n",
       "      <td>Banglore</td>\n",
       "      <td>New Delhi</td>\n",
       "      <td>285.0</td>\n",
       "      <td>1.0</td>\n",
       "      <td>No info</td>\n",
       "      <td>3</td>\n",
       "      <td>1</td>\n",
       "      <td>2019</td>\n",
       "      <td>13302</td>\n",
       "    </tr>\n",
       "  </tbody>\n",
       "</table>\n",
       "</div>"
      ],
      "text/plain": [
       "       Airline    Source Destination  Flight_Duration  Total_Stops  \\\n",
       "0       IndiGo  Banglore   New Delhi            170.0          0.0   \n",
       "1    Air India   Kolkata    Banglore            445.0          2.0   \n",
       "2  Jet Airways     Delhi      Cochin           1140.0          2.0   \n",
       "3       IndiGo   Kolkata    Banglore            325.0          1.0   \n",
       "4       IndiGo  Banglore   New Delhi            285.0          1.0   \n",
       "\n",
       "  Additional_Info  Day_of_Journey  Month_of_Journey  Year_of_Journey  Price  \n",
       "0         No info              24                 3             2019   3897  \n",
       "1         No info               5                 1             2019   7662  \n",
       "2         No info               6                 9             2019  13882  \n",
       "3         No info               5                12             2019   6218  \n",
       "4         No info               3                 1             2019  13302  "
      ]
     },
     "execution_count": 3,
     "metadata": {},
     "output_type": "execute_result"
    }
   ],
   "source": [
    "df.head()"
   ]
  },
  {
   "cell_type": "code",
   "execution_count": 4,
   "id": "d862d6f7",
   "metadata": {},
   "outputs": [
    {
     "name": "stdout",
     "output_type": "stream",
     "text": [
      "Number of rows: 10682\n",
      "Number of columns: 10\n"
     ]
    }
   ],
   "source": [
    "print(f\"Number of rows: {df.shape[0]}\")\n",
    "print(f\"Number of columns: {df.shape[1]}\")"
   ]
  },
  {
   "cell_type": "code",
   "execution_count": 5,
   "id": "f6ab2d2d",
   "metadata": {},
   "outputs": [
    {
     "name": "stdout",
     "output_type": "stream",
     "text": [
      "<class 'pandas.core.frame.DataFrame'>\n",
      "RangeIndex: 10682 entries, 0 to 10681\n",
      "Data columns (total 10 columns):\n",
      " #   Column            Non-Null Count  Dtype  \n",
      "---  ------            --------------  -----  \n",
      " 0   Airline           10682 non-null  object \n",
      " 1   Source            10682 non-null  object \n",
      " 2   Destination       10682 non-null  object \n",
      " 3   Flight_Duration   10682 non-null  float64\n",
      " 4   Total_Stops       10682 non-null  float64\n",
      " 5   Additional_Info   10682 non-null  object \n",
      " 6   Day_of_Journey    10682 non-null  int64  \n",
      " 7   Month_of_Journey  10682 non-null  int64  \n",
      " 8   Year_of_Journey   10682 non-null  int64  \n",
      " 9   Price             10682 non-null  int64  \n",
      "dtypes: float64(2), int64(4), object(4)\n",
      "memory usage: 834.7+ KB\n"
     ]
    }
   ],
   "source": [
    "df.info()"
   ]
  },
  {
   "cell_type": "code",
   "execution_count": 6,
   "id": "76cce882",
   "metadata": {},
   "outputs": [
    {
     "data": {
      "text/html": [
       "<div>\n",
       "<style scoped>\n",
       "    .dataframe tbody tr th:only-of-type {\n",
       "        vertical-align: middle;\n",
       "    }\n",
       "\n",
       "    .dataframe tbody tr th {\n",
       "        vertical-align: top;\n",
       "    }\n",
       "\n",
       "    .dataframe thead th {\n",
       "        text-align: right;\n",
       "    }\n",
       "</style>\n",
       "<table border=\"1\" class=\"dataframe\">\n",
       "  <thead>\n",
       "    <tr style=\"text-align: right;\">\n",
       "      <th></th>\n",
       "      <th>Flight_Duration</th>\n",
       "      <th>Total_Stops</th>\n",
       "      <th>Day_of_Journey</th>\n",
       "      <th>Month_of_Journey</th>\n",
       "      <th>Year_of_Journey</th>\n",
       "      <th>Price</th>\n",
       "    </tr>\n",
       "  </thead>\n",
       "  <tbody>\n",
       "    <tr>\n",
       "      <th>count</th>\n",
       "      <td>10682.000000</td>\n",
       "      <td>10682.000000</td>\n",
       "      <td>10682.000000</td>\n",
       "      <td>10682.000000</td>\n",
       "      <td>10682.0</td>\n",
       "      <td>10682.000000</td>\n",
       "    </tr>\n",
       "    <tr>\n",
       "      <th>mean</th>\n",
       "      <td>643.020502</td>\n",
       "      <td>0.824190</td>\n",
       "      <td>12.682925</td>\n",
       "      <td>5.534731</td>\n",
       "      <td>2019.0</td>\n",
       "      <td>9087.214567</td>\n",
       "    </tr>\n",
       "    <tr>\n",
       "      <th>std</th>\n",
       "      <td>507.830133</td>\n",
       "      <td>0.675229</td>\n",
       "      <td>8.803800</td>\n",
       "      <td>2.987626</td>\n",
       "      <td>0.0</td>\n",
       "      <td>4611.548810</td>\n",
       "    </tr>\n",
       "    <tr>\n",
       "      <th>min</th>\n",
       "      <td>5.000000</td>\n",
       "      <td>0.000000</td>\n",
       "      <td>3.000000</td>\n",
       "      <td>1.000000</td>\n",
       "      <td>2019.0</td>\n",
       "      <td>1759.000000</td>\n",
       "    </tr>\n",
       "    <tr>\n",
       "      <th>25%</th>\n",
       "      <td>170.000000</td>\n",
       "      <td>0.000000</td>\n",
       "      <td>5.000000</td>\n",
       "      <td>3.000000</td>\n",
       "      <td>2019.0</td>\n",
       "      <td>5277.000000</td>\n",
       "    </tr>\n",
       "    <tr>\n",
       "      <th>50%</th>\n",
       "      <td>520.000000</td>\n",
       "      <td>1.000000</td>\n",
       "      <td>6.000000</td>\n",
       "      <td>5.000000</td>\n",
       "      <td>2019.0</td>\n",
       "      <td>8372.000000</td>\n",
       "    </tr>\n",
       "    <tr>\n",
       "      <th>75%</th>\n",
       "      <td>930.000000</td>\n",
       "      <td>1.000000</td>\n",
       "      <td>21.000000</td>\n",
       "      <td>6.000000</td>\n",
       "      <td>2019.0</td>\n",
       "      <td>12373.000000</td>\n",
       "    </tr>\n",
       "    <tr>\n",
       "      <th>max</th>\n",
       "      <td>2860.000000</td>\n",
       "      <td>4.000000</td>\n",
       "      <td>27.000000</td>\n",
       "      <td>12.000000</td>\n",
       "      <td>2019.0</td>\n",
       "      <td>79512.000000</td>\n",
       "    </tr>\n",
       "  </tbody>\n",
       "</table>\n",
       "</div>"
      ],
      "text/plain": [
       "       Flight_Duration   Total_Stops  Day_of_Journey  Month_of_Journey  \\\n",
       "count     10682.000000  10682.000000    10682.000000      10682.000000   \n",
       "mean        643.020502      0.824190       12.682925          5.534731   \n",
       "std         507.830133      0.675229        8.803800          2.987626   \n",
       "min           5.000000      0.000000        3.000000          1.000000   \n",
       "25%         170.000000      0.000000        5.000000          3.000000   \n",
       "50%         520.000000      1.000000        6.000000          5.000000   \n",
       "75%         930.000000      1.000000       21.000000          6.000000   \n",
       "max        2860.000000      4.000000       27.000000         12.000000   \n",
       "\n",
       "       Year_of_Journey         Price  \n",
       "count          10682.0  10682.000000  \n",
       "mean            2019.0   9087.214567  \n",
       "std                0.0   4611.548810  \n",
       "min             2019.0   1759.000000  \n",
       "25%             2019.0   5277.000000  \n",
       "50%             2019.0   8372.000000  \n",
       "75%             2019.0  12373.000000  \n",
       "max             2019.0  79512.000000  "
      ]
     },
     "execution_count": 6,
     "metadata": {},
     "output_type": "execute_result"
    }
   ],
   "source": [
    "df.describe()"
   ]
  },
  {
   "cell_type": "code",
   "execution_count": 7,
   "id": "6e10b97c",
   "metadata": {},
   "outputs": [],
   "source": [
    "## dependent and independent data\n",
    "X = df.iloc[:,:-1]\n",
    "y = df.iloc[:,-1]"
   ]
  },
  {
   "cell_type": "code",
   "execution_count": 8,
   "id": "eaa54376",
   "metadata": {},
   "outputs": [
    {
     "data": {
      "text/plain": [
       "['Airline', 'Source', 'Destination', 'Additional_Info']"
      ]
     },
     "execution_count": 8,
     "metadata": {},
     "output_type": "execute_result"
    }
   ],
   "source": [
    "## identifying the categorical and numerical columns \n",
    "cat_feat = [feature for feature in X.columns if X[feature].dtypes == 'O' ]\n",
    "cat_feat"
   ]
  },
  {
   "cell_type": "code",
   "execution_count": 9,
   "id": "7c174d1d",
   "metadata": {},
   "outputs": [
    {
     "data": {
      "text/plain": [
       "['Flight_Duration',\n",
       " 'Total_Stops',\n",
       " 'Day_of_Journey',\n",
       " 'Month_of_Journey',\n",
       " 'Year_of_Journey']"
      ]
     },
     "execution_count": 9,
     "metadata": {},
     "output_type": "execute_result"
    }
   ],
   "source": [
    "## identifying the numerical columns\n",
    "num_feat = [feature for feature in X.columns if feature not in cat_feat]\n",
    "num_feat"
   ]
  },
  {
   "cell_type": "code",
   "execution_count": 10,
   "id": "b4f9f125",
   "metadata": {},
   "outputs": [],
   "source": [
    "## dropping the duplicate rows\n",
    "X.drop_duplicates(inplace=True)"
   ]
  },
  {
   "cell_type": "code",
   "execution_count": 11,
   "id": "27318b7d",
   "metadata": {
    "scrolled": false
   },
   "outputs": [
    {
     "name": "stdout",
     "output_type": "stream",
     "text": [
      "Airline:\n",
      "Jet Airways                          3221\n",
      "Air India                            1542\n",
      "IndiGo                               1183\n",
      "Multiple carriers                     922\n",
      "SpiceJet                              693\n",
      "Vistara                               412\n",
      "Air Asia                              269\n",
      "GoAir                                 178\n",
      "Multiple carriers Premium economy      11\n",
      "Jet Airways Business                    6\n",
      "Vistara Premium economy                 3\n",
      "Trujet                                  1\n",
      "Name: Airline, dtype: int64\n",
      "\n",
      "\n",
      "Source:\n",
      "Delhi       3882\n",
      "Kolkata     2494\n",
      "Banglore    1429\n",
      "Mumbai       393\n",
      "Chennai      243\n",
      "Name: Source, dtype: int64\n",
      "\n",
      "\n",
      "Destination:\n",
      "Cochin       3882\n",
      "Banglore     2494\n",
      "Delhi         747\n",
      "New Delhi     682\n",
      "Hyderabad     393\n",
      "Kolkata       243\n",
      "Name: Destination, dtype: int64\n",
      "\n",
      "\n",
      "Additional_Info:\n",
      "No info                         6434\n",
      "In-flight meal not included     1709\n",
      "No check-in baggage included     262\n",
      "1 Long layover                    19\n",
      "Change airports                    7\n",
      "Business class                     4\n",
      "No Info                            3\n",
      "1 Short layover                    1\n",
      "Red-eye flight                     1\n",
      "2 Long layover                     1\n",
      "Name: Additional_Info, dtype: int64\n",
      "\n",
      "\n"
     ]
    }
   ],
   "source": [
    "## finding the number of unique values in each of the categorical columns\n",
    "for feature in cat_feat:\n",
    "    print(f\"{feature}:\")\n",
    "    print(X[feature].value_counts())\n",
    "    print(\"\\n\")"
   ]
  },
  {
   "cell_type": "code",
   "execution_count": 12,
   "id": "bc94916b",
   "metadata": {},
   "outputs": [],
   "source": [
    "## In Additional_Info column, No info value is mispelled as No Info 3 times. We will need to correct it\n",
    "X['Additional_Info'] = np.where(X['Additional_Info'] == \"No Info\", \"No info\", X['Additional_Info'])"
   ]
  },
  {
   "cell_type": "code",
   "execution_count": 13,
   "id": "c2831b8b",
   "metadata": {},
   "outputs": [
    {
     "data": {
      "text/plain": [
       "No info                         6437\n",
       "In-flight meal not included     1709\n",
       "No check-in baggage included     262\n",
       "1 Long layover                    19\n",
       "Change airports                    7\n",
       "Business class                     4\n",
       "1 Short layover                    1\n",
       "Red-eye flight                     1\n",
       "2 Long layover                     1\n",
       "Name: Additional_Info, dtype: int64"
      ]
     },
     "execution_count": 13,
     "metadata": {},
     "output_type": "execute_result"
    }
   ],
   "source": [
    "X['Additional_Info'].value_counts()"
   ]
  },
  {
   "cell_type": "code",
   "execution_count": 14,
   "id": "9aec7fe5",
   "metadata": {},
   "outputs": [
    {
     "name": "stdout",
     "output_type": "stream",
     "text": [
      "Variance of the feature Flight_Duration: 254915.713\n",
      "Variance of the feature Total_Stops: 0.405\n",
      "Variance of the feature Day_of_Journey: 76.801\n",
      "Variance of the feature Month_of_Journey: 9.05\n",
      "Variance of the feature Year_of_Journey: 0.0\n"
     ]
    }
   ],
   "source": [
    "## finding the features with zero variance\n",
    "for feature in num_feat:\n",
    "    print(f\"Variance of the feature {feature}: {np.round((X[feature].std())**2,3)}\")"
   ]
  },
  {
   "cell_type": "code",
   "execution_count": 15,
   "id": "2e7229a9",
   "metadata": {},
   "outputs": [
    {
     "data": {
      "text/plain": [
       "2019    8441\n",
       "Name: Year_of_Journey, dtype: int64"
      ]
     },
     "execution_count": 15,
     "metadata": {},
     "output_type": "execute_result"
    }
   ],
   "source": [
    "## since the variation of the feature Year_of_Journey is zero, all the values in that feature must be same.\n",
    "X['Year_of_Journey'].value_counts()"
   ]
  },
  {
   "cell_type": "code",
   "execution_count": 16,
   "id": "3a9bb3d0",
   "metadata": {},
   "outputs": [],
   "source": [
    "## Feature with zero variance will not provide any useful information to our machine learning model and hence removing it\n",
    "X.drop(columns=['Year_of_Journey'],inplace=True)"
   ]
  },
  {
   "cell_type": "code",
   "execution_count": 17,
   "id": "c23d97a2",
   "metadata": {},
   "outputs": [
    {
     "data": {
      "text/plain": [
       "Index(['Airline', 'Source', 'Destination', 'Flight_Duration', 'Total_Stops',\n",
       "       'Additional_Info', 'Day_of_Journey', 'Month_of_Journey'],\n",
       "      dtype='object')"
      ]
     },
     "execution_count": 17,
     "metadata": {},
     "output_type": "execute_result"
    }
   ],
   "source": [
    "X.columns"
   ]
  },
  {
   "cell_type": "code",
   "execution_count": 22,
   "id": "1e4992b3",
   "metadata": {},
   "outputs": [
    {
     "data": {
      "text/plain": [
       "<AxesSubplot:>"
      ]
     },
     "execution_count": 22,
     "metadata": {},
     "output_type": "execute_result"
    },
    {
     "data": {
      "image/png": "[encoded data removed]",
      "text/plain": [
       "<Figure size 432x288 with 2 Axes>"
      ]
     },
     "metadata": {
      "needs_background": "light"
     },
     "output_type": "display_data"
    }
   ],
   "source": [
    "## checking the multi-collinerity of the features\n",
    "sns.heatmap(X.corr(),cmap=\"coolwarm\",annot=True)"
   ]
  },
  {
   "cell_type": "markdown",
   "id": "a38f812b",
   "metadata": {},
   "source": [
    "**Here no two independent features have a correlation greater than 0.6 and lower than -0.7. So there is very little chance of multicollinearity**"
   ]
  },
  {
   "cell_type": "code",
   "execution_count": 26,
   "id": "ae444b21",
   "metadata": {},
   "outputs": [
    {
     "data": {
      "text/plain": [
       "<AxesSubplot:>"
      ]
     },
     "execution_count": 26,
     "metadata": {},
     "output_type": "execute_result"
    },
    {
     "data": {
      "image/png": "[encoded data removed]",
      "text/plain": [
       "<Figure size 432x288 with 2 Axes>"
      ]
     },
     "metadata": {
      "needs_background": "light"
     },
     "output_type": "display_data"
    }
   ],
   "source": [
    "## checking the relation of each independent feature with the target feature\n",
    "sns.heatmap(df.corr(),cmap=\"coolwarm\",annot=True)"
   ]
  },
  {
   "cell_type": "code",
   "execution_count": null,
   "id": "81c5160a",
   "metadata": {},
   "outputs": [],
   "source": []
  }
 ],
 "metadata": {
  "kernelspec": {
   "display_name": "Python 3 (ipykernel)",
   "language": "python",
   "name": "python3"
  },
  "language_info": {
   "codemirror_mode": {
    "name": "ipython",
    "version": 3
   },
   "file_extension": ".py",
   "mimetype": "text/x-python",
   "name": "python",
   "nbconvert_exporter": "python",
   "pygments_lexer": "ipython3",
   "version": "3.9.7"
  }
 },
 "nbformat": 4,
 "nbformat_minor": 5
}
